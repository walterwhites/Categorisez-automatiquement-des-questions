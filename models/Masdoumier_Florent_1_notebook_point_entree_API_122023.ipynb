{
 "cells": [
  {
   "cell_type": "markdown",
   "source": [
    "# Notebook Point Entrée API"
   ],
   "metadata": {
    "collapsed": false
   },
   "id": "433fd6f285a9095"
  },
  {
   "cell_type": "code",
   "execution_count": 8,
   "outputs": [
    {
     "name": "stdout",
     "output_type": "stream",
     "text": [
      "Résultat de la prédiction:\n",
      "{'prediction': [['ios', 0.1451951454287066], ['swift', 0.0744732872541677], ['xcode', 0.0021875781071980555], ['objective-c', 0.0019918627252054027], ['c#', 0.0016112723722573109]]}\n"
     ]
    }
   ],
   "source": [
    "import requests\n",
    "\n",
    "# Définir les données à envoyer\n",
    "data = {\n",
    "    \"title\": 'swift class not found',\n",
    "    \"body\": 'I get Xcode compilation error, class not found, below my code'\n",
    "}\n",
    "\n",
    "# URL des 2 environnements heroku (même API)\n",
    "\n",
    "url = 'https://projet5-ee33149cf751.herokuapp.com/models/supervised/predict/'\n",
    "# url2 = 'https://project5-f3fbec0b0078.herokuapp.com/models/supervised/predict/'\n",
    "\n",
    "response = requests.post(url, params=data)\n",
    "\n",
    "if response.status_code == 200:\n",
    "    print(\"Résultat de la prédiction:\")\n",
    "    print(response.json())\n",
    "else:\n",
    "    print(\"La requête a échoué avec le code:\", response.status_code)\n"
   ],
   "metadata": {
    "collapsed": false,
    "ExecuteTime": {
     "end_time": "2024-02-17T06:29:30.834400Z",
     "start_time": "2024-02-17T06:29:18.167602Z"
    }
   },
   "id": "bf237d7811825e40"
  },
  {
   "cell_type": "code",
   "execution_count": null,
   "outputs": [],
   "source": [],
   "metadata": {
    "collapsed": false
   },
   "id": "e2eee124c946f383"
  }
 ],
 "metadata": {
  "kernelspec": {
   "display_name": "Python 3",
   "language": "python",
   "name": "python3"
  },
  "language_info": {
   "codemirror_mode": {
    "name": "ipython",
    "version": 2
   },
   "file_extension": ".py",
   "mimetype": "text/x-python",
   "name": "python",
   "nbconvert_exporter": "python",
   "pygments_lexer": "ipython2",
   "version": "2.7.6"
  }
 },
 "nbformat": 4,
 "nbformat_minor": 5
}
