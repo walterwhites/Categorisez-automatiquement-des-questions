{
 "cells": [
  {
   "cell_type": "markdown",
   "source": [
    "# Notebook Approche Supervisée"
   ],
   "metadata": {
    "collapsed": false
   },
   "id": "ba2cf5cb1ac01f22"
  },
  {
   "cell_type": "code",
   "execution_count": null,
   "outputs": [],
   "source": [],
   "metadata": {
    "collapsed": false
   },
   "id": "789d0c0db02b0b2d"
  }
 ],
 "metadata": {
  "kernelspec": {
   "display_name": "Python 3",
   "language": "python",
   "name": "python3"
  },
  "language_info": {
   "codemirror_mode": {
    "name": "ipython",
    "version": 2
   },
   "file_extension": ".py",
   "mimetype": "text/x-python",
   "name": "python",
   "nbconvert_exporter": "python",
   "pygments_lexer": "ipython2",
   "version": "2.7.6"
  }
 },
 "nbformat": 4,
 "nbformat_minor": 5
}
