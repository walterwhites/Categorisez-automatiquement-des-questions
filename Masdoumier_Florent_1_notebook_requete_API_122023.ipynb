{
 "cells": [
  {
   "cell_type": "markdown",
   "source": [
    "# Notebook Requêtes API"
   ],
   "metadata": {
    "collapsed": false
   },
   "id": "11c7ec3c6e89a76b"
  },
  {
   "cell_type": "code",
   "execution_count": 3,
   "outputs": [
    {
     "name": "stdout",
     "output_type": "stream",
     "text": [
      "                   date                                              titre  \\\n",
      "0   2022-04-26 00:37:09  Error restoring db in Azure PostgreSQL Flexibl...   \n",
      "1   2012-01-17 07:25:53                         What does “BC break” mean?   \n",
      "2   2023-12-04 11:32:21                    Macro not resolving as expected   \n",
      "3   2023-12-04 11:32:20                           Next.js v:14.0.3 routing   \n",
      "4   2023-12-04 11:32:17  Is CSRF attack possible for API authenticating...   \n",
      "..                  ...                                                ...   \n",
      "495 2023-12-04 10:25:14  swift version of Signal derived app, scrolling...   \n",
      "496 2023-12-03 20:28:26  Why does Optional Chaining lead to &quot;Prope...   \n",
      "497 2023-10-11 14:23:46  How to install packages from AWS CodeArtifact ...   \n",
      "498 2023-07-04 06:32:41  the trait `QueryResponses` is not implemented ...   \n",
      "499 2023-12-04 10:24:55  MacOS - very slow searching for mailboxes in O...   \n",
      "\n",
      "                                           tags  score  \n",
      "0                           [postgresql, azure]      1  \n",
      "1                                 [terminology]     76  \n",
      "2                              [sas, sas-macro]      0  \n",
      "3                                   [next.js14]      0  \n",
      "4                               [cookies, csrf]      0  \n",
      "..                                          ...    ...  \n",
      "495     [ios, swift, uicollectionview, signals]      0  \n",
      "496                                [typescript]      1  \n",
      "497                [aws-glue, aws-codeartifact]      1  \n",
      "498  [rust, blockchain, tendermint, cosmos-sdk]      0  \n",
      "499                  [macos, indexing, outlook]      0  \n",
      "\n",
      "[500 rows x 4 columns]\n"
     ]
    }
   ],
   "source": [
    "import pandas as pd\n",
    "from stackapi import StackAPI\n",
    "\n",
    "stack_api = StackAPI('stackoverflow')\n",
    "\n",
    "# Resquest params\n",
    "params = {\n",
    "    'tagged': 'python',\n",
    "    'min': 50,\n",
    "    'sort': 'votes',\n",
    "    'order': 'desc',\n",
    "    'site': 'stackoverflow'\n",
    "}\n",
    "\n",
    "questions = stack_api.fetch('questions', params=params)\n",
    "\n",
    "question_data = []\n",
    "for item in questions['items']:\n",
    "    question_data.append({\n",
    "        'date': pd.to_datetime(item['creation_date'], unit='s'),\n",
    "        'titre': item['title'],\n",
    "        'tags': item['tags'],\n",
    "        'score': item['score']\n",
    "    })\n",
    "\n",
    "df = pd.DataFrame(question_data)\n",
    "print(df)"
   ],
   "metadata": {
    "collapsed": false,
    "ExecuteTime": {
     "start_time": "2023-12-04T11:32:37.364024Z"
    }
   },
   "id": "initial_id"
  }
 ],
 "metadata": {
  "kernelspec": {
   "display_name": "Python 3",
   "language": "python",
   "name": "python3"
  },
  "language_info": {
   "codemirror_mode": {
    "name": "ipython",
    "version": 2
   },
   "file_extension": ".py",
   "mimetype": "text/x-python",
   "name": "python",
   "nbconvert_exporter": "python",
   "pygments_lexer": "ipython2",
   "version": "2.7.6"
  }
 },
 "nbformat": 4,
 "nbformat_minor": 5
}
